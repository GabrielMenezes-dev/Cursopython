{
  "nbformat": 4,
  "nbformat_minor": 0,
  "metadata": {
    "colab": {
      "provenance": [],
      "authorship_tag": "ABX9TyMGfm8nZC5d3sL3IsONkMT/",
      "include_colab_link": true
    },
    "kernelspec": {
      "name": "python3",
      "display_name": "Python 3"
    },
    "language_info": {
      "name": "python"
    }
  },
  "cells": [
    {
      "cell_type": "markdown",
      "metadata": {
        "id": "view-in-github",
        "colab_type": "text"
      },
      "source": [
        "<a href=\"https://colab.research.google.com/github/GabrielMenezes-dev/Cursopython/blob/main/Tarefa_EBAC_Python.ipynb\" target=\"_parent\"><img src=\"https://colab.research.google.com/assets/colab-badge.svg\" alt=\"Open In Colab\"/></a>"
      ]
    },
    {
      "cell_type": "code",
      "source": [
        "numero1 = input(\"Digite o primeiro número :\")\n",
        "numero2 = input(\"Digite o segundo número :\")\n",
        "\n",
        "\n",
        "numero1 = float(numero1)\n",
        "numero2 = float(numero2)\n",
        "\n",
        "\n",
        "soma = numero1 + numero2\n",
        "subtracao = numero1 - numero2\n",
        "multiplicacao = numero1 * numero2\n",
        "divisao = numero1 / numero2\n",
        "escolha = input(\"Digite a operação desejada, soma, subtração, multiplicação, divisão: \")\n",
        "\n",
        "if escolha == \"soma\" :\n",
        "    print(numero1,\"+\", numero2,\"=\", soma)\n",
        "elif escolha == \"subtração\":\n",
        "    print(numero1,\"-\",numero2,\"=\",subtracao)\n",
        "elif escolha == \"multiplicação\":\n",
        "    print(numero1,\"x\",numero2,\"=\",multiplicacao)\n",
        "elif escolha == \"divisão\":\n",
        "    print(numero,\"/\",numero2,\"=\",divisao)\n",
        "else:\n",
        "    print(\"Operação inválida\")\n",
        "    exit()\n"
      ],
      "metadata": {
        "colab": {
          "base_uri": "https://localhost:8080/"
        },
        "id": "tAc4_PHHL52v",
        "outputId": "d005807a-4ea8-4b7a-b52b-29b6f8127fd5"
      },
      "execution_count": 6,
      "outputs": [
        {
          "output_type": "stream",
          "name": "stdout",
          "text": [
            "Digite o primeiro número :19\n",
            "Digite o segundo número :4\n",
            "Digite a operação desejada, soma, subtração, multiplicação, divisão: soma\n",
            "19.0 + 4.0 = 23.0\n"
          ]
        }
      ]
    }
  ]
}