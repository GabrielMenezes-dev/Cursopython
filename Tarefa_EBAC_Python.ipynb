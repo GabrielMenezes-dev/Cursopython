{
  "nbformat": 4,
  "nbformat_minor": 0,
  "metadata": {
    "colab": {
      "provenance": []
    },
    "kernelspec": {
      "name": "python3",
      "display_name": "Python 3"
    },
    "language_info": {
      "name": "python"
    }
  },
  "cells": [
    {
      "cell_type": "code",
      "source": [
        "numero1 = input(\"Digite o primeiro número :\")\n",
        "numero2 = input(\"Digite o segundo número :\")\n",
        "\n",
        "\n",
        "numero1 = float(numero1)\n",
        "numero2 = float(numero2)\n",
        "\n",
        "\n",
        "soma = numero1 + numero2\n",
        "subtracao = numero1 - numero2\n",
        "multiplicacao = numero1 * numero2\n",
        "divisao = numero1 / numero2\n",
        "escolha = input(\"Digite a operação desejada, soma, subtração, multiplicação, divisão: \")\n",
        "\n",
        "if escolha == \"soma\" :\n",
        "    print(numero1,\"+\", numero2,\"=\", soma)\n",
        "elif escolha == \"subtração\":\n",
        "    print(numero1,\"-\",numero2,\"=\",subtracao)\n",
        "elif escolha == \"multiplicação\":\n",
        "    print(numero1,\"x\",numero2,\"=\",multiplicacao)\n",
        "elif escolha == \"divisão\":\n",
        "    print(numero,\"/\",numero2,\"=\",divisao)\n",
        "else:\n",
        "    print(\"Operação inválida\")\n",
        "    exit()\n"
      ],
      "metadata": {
        "colab": {
          "base_uri": "https://localhost:8080/"
        },
        "id": "tAc4_PHHL52v",
        "outputId": "d005807a-4ea8-4b7a-b52b-29b6f8127fd5"
      },
      "execution_count": 6,
      "outputs": [
        {
          "output_type": "stream",
          "name": "stdout",
          "text": [
            "Digite o primeiro número :19\n",
            "Digite o segundo número :4\n",
            "Digite a operação desejada, soma, subtração, multiplicação, divisão: soma\n",
            "19.0 + 4.0 = 23.0\n"
          ]
        }
      ]
    },
    {
      "cell_type": "code",
      "source": [
        "\n",
        "\n",
        "while True:\n",
        "  numero1 = input(\"Digite o primeiro número :\")\n",
        "  numero2 = input(\"Digite o segundo número :\")\n",
        "\n",
        "  numero1 = float(numero1)\n",
        "  numero2 = float(numero2)\n",
        "\n",
        "\n",
        "  soma = numero1 + numero2\n",
        "  subtracao = numero1 - numero2\n",
        "  multiplicacao = numero1 * numero2\n",
        "  divisao = numero1 / numero2\n",
        "  escolha = input(\"Digite a operação desejada, soma, subtração, multiplicação, divisão: \")\n",
        "\n",
        "  if escolha == \"soma\" :\n",
        "    print(numero1,\"+\", numero2,\"=\", soma)\n",
        "  elif escolha == \"subtração\":\n",
        "    print(numero1,\"-\",numero2,\"=\",subtracao)\n",
        "  elif escolha == \"multiplicação\":\n",
        "    print(numero1,\"x\",numero2,\"=\",multiplicacao)\n",
        "  elif escolha == \"divisão\":\n",
        "    print(numero1,\"/\",numero2,\"=\",divisao)\n",
        "  else:\n",
        "    print(\"Operação inválida\")\n",
        "\n",
        "  if input(\"Deseja continuar? (s/n): \") != 's':\n",
        "    break\n"
      ],
      "metadata": {
        "colab": {
          "base_uri": "https://localhost:8080/"
        },
        "id": "lsdfYhATe3yL",
        "outputId": "a5cda575-294c-490d-d0c7-df952e820673"
      },
      "execution_count": 3,
      "outputs": [
        {
          "output_type": "stream",
          "name": "stdout",
          "text": [
            "Digite o primeiro número :35435\n",
            "Digite o segundo número :4645645\n",
            "Digite a operação desejada, soma, subtração, multiplicação, divisão: soma\n",
            "35435.0 + 4645645.0 = 4681080.0\n",
            "Deseja continuar? (s/n): s\n",
            "Digite o primeiro número :3535\n",
            "Digite o segundo número :345345\n",
            "Digite a operação desejada, soma, subtração, multiplicação, divisão: soma\n",
            "Deseja continuar? (s/n): n\n",
            "3535.0 + 345345.0 = 348880.0\n"
          ]
        }
      ]
    }
  ]
}