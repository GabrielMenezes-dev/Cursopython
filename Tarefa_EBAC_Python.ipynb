{
  "nbformat": 4,
  "nbformat_minor": 0,
  "metadata": {
    "colab": {
      "provenance": []
    },
    "kernelspec": {
      "name": "python3",
      "display_name": "Python 3"
    },
    "language_info": {
      "name": "python"
    }
  },
  "cells": [
    {
      "cell_type": "code",
      "source": [
        "while True:\n",
        "  numero1 = input(\"Digite o primeiro número :\")\n",
        "  numero2 = input(\"Digite o segundo número :\")\n",
        "\n",
        "  numero1 = float(numero1)\n",
        "  numero2 = float(numero2)\n",
        "\n",
        "\n",
        "  soma = numero1 + numero2\n",
        "  subtracao = numero1 - numero2\n",
        "  multiplicacao = numero1 * numero2\n",
        "  divisao = numero1 / numero2\n",
        "  escolha = input(\"Digite a operação desejada, soma, subtração, multiplicação, divisão: \")\n",
        "\n",
        "  if escolha == \"soma\" :\n",
        "    print(numero1,\"+\", numero2,\"=\", soma)\n",
        "  elif escolha == \"subtração\":\n",
        "    print(numero1,\"-\",numero2,\"=\",subtracao)\n",
        "  elif escolha == \"multiplicação\":\n",
        "    print(numero1,\"x\",numero2,\"=\",multiplicacao)\n",
        "  elif escolha == \"divisão\":\n",
        "    print(numero1,\"/\",numero2,\"=\",divisao)\n",
        "  else:\n",
        "    print(\"Operação inválida\")\n",
        "\n",
        "  if input(\"Deseja continuar? (s/n): \") != 's':\n",
        "    break"
      ],
      "metadata": {
        "colab": {
          "base_uri": "https://localhost:8080/"
        },
        "id": "lsdfYhATe3yL",
        "outputId": "6b0bc394-5cf7-430a-a93f-78eaf47be3b2"
      },
      "execution_count": 4,
      "outputs": [
        {
          "name": "stdout",
          "output_type": "stream",
          "text": [
            "Digite o primeiro número :27\n",
            "Digite o segundo número :5\n",
            "Digite a operação desejada, soma, subtração, multiplicação, divisão: multiplicação\n",
            "27.0 x 5.0 = 135.0\n",
            "Deseja continuar? (s/n): n\n"
          ]
        }
      ]
    }
  ]
}